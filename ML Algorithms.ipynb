{
 "cells": [
  {
   "cell_type": "code",
   "execution_count": 5,
   "id": "32b73087-aafa-4f88-91d5-553ebb322806",
   "metadata": {},
   "outputs": [
    {
     "name": "stdout",
     "output_type": "stream",
     "text": [
      "Requirement already satisfied: xgboost in c:\\users\\anubh\\appdata\\local\\programs\\python\\python313\\lib\\site-packages (3.0.0)\n",
      "Requirement already satisfied: numpy in c:\\users\\anubh\\appdata\\local\\programs\\python\\python313\\lib\\site-packages (from xgboost) (2.2.4)\n",
      "Requirement already satisfied: scipy in c:\\users\\anubh\\appdata\\local\\programs\\python\\python313\\lib\\site-packages (from xgboost) (1.15.2)\n"
     ]
    }
   ],
   "source": [
    "!pip install xgboost"
   ]
  },
  {
   "cell_type": "code",
   "execution_count": 15,
   "id": "b9f7a30f-feb8-4156-9192-bfe7936aa8d8",
   "metadata": {},
   "outputs": [
    {
     "ename": "ModuleNotFoundError",
     "evalue": "No module named 'imblearn'",
     "output_type": "error",
     "traceback": [
      "\u001b[31m---------------------------------------------------------------------------\u001b[39m",
      "\u001b[31mModuleNotFoundError\u001b[39m                       Traceback (most recent call last)",
      "\u001b[36mCell\u001b[39m\u001b[36m \u001b[39m\u001b[32mIn[15]\u001b[39m\u001b[32m, line 29\u001b[39m\n\u001b[32m     27\u001b[39m \u001b[38;5;28;01mfrom\u001b[39;00m\u001b[38;5;250m \u001b[39m\u001b[34;01msklearn\u001b[39;00m\u001b[34;01m.\u001b[39;00m\u001b[34;01mmodel_selection\u001b[39;00m\u001b[38;5;250m \u001b[39m\u001b[38;5;28;01mimport\u001b[39;00m HalvingGridSearchCV\n\u001b[32m     28\u001b[39m \u001b[38;5;28;01mfrom\u001b[39;00m\u001b[38;5;250m \u001b[39m\u001b[34;01msklearn\u001b[39;00m\u001b[34;01m.\u001b[39;00m\u001b[34;01msvm\u001b[39;00m\u001b[38;5;250m \u001b[39m\u001b[38;5;28;01mimport\u001b[39;00m SVC\n\u001b[32m---> \u001b[39m\u001b[32m29\u001b[39m \u001b[38;5;28;01mfrom\u001b[39;00m\u001b[38;5;250m \u001b[39m\u001b[34;01mimblearn\u001b[39;00m\u001b[34;01m.\u001b[39;00m\u001b[34;01mover_sampling\u001b[39;00m\u001b[38;5;250m \u001b[39m\u001b[38;5;28;01mimport\u001b[39;00m SMOTE\n",
      "\u001b[31mModuleNotFoundError\u001b[39m: No module named 'imblearn'"
     ]
    }
   ],
   "source": [
    "import pandas as pd\n",
    "import seaborn as sns\n",
    "import matplotlib.pyplot as plt\n",
    "import numpy as np\n",
    "%matplotlib inline\n",
    "from sklearn.linear_model import LogisticRegression\n",
    "from sklearn.model_selection import GridSearchCV\n",
    "from sklearn.neighbors import KNeighborsClassifier\n",
    "from sklearn.metrics import classification_report, confusion_matrix\n",
    "from sklearn.model_selection import cross_val_score\n",
    "from sklearn.preprocessing import StandardScaler\n",
    "from sklearn.metrics import roc_auc_score,accuracy_score,recall_score\n",
    "from sklearn.metrics import roc_curve\n",
    "from sklearn.model_selection import train_test_split\n",
    "from sklearn.naive_bayes import GaussianNB\n",
    "from sklearn.metrics import accuracy_score\n",
    "from sklearn.svm import SVC\n",
    "from sklearn.tree import DecisionTreeClassifier\n",
    "from xgboost import XGBClassifier\n",
    "from sklearn.model_selection import StratifiedKFold\n",
    "from sklearn.ensemble import RandomForestClassifier\n",
    "import warnings\n",
    "warnings.filterwarnings('ignore')\n",
    "from sklearn.preprocessing import MinMaxScaler\n",
    "from sklearn.preprocessing import PolynomialFeatures\n",
    "from sklearn.experimental import enable_halving_search_cv  # Enable experimental features\n",
    "from sklearn.model_selection import HalvingGridSearchCV\n",
    "from sklearn.svm import SVC\n",
    "from imblearn.over_sampling import SMOTE"
   ]
  },
  {
   "cell_type": "code",
   "execution_count": 2,
   "id": "0ab59e4b-46b9-47ff-baf8-780ffdb9d4b3",
   "metadata": {},
   "outputs": [],
   "source": [
    "df=pd.read_csv(\"standardisedBank.csv\").drop(['Unnamed: 0'],axis=1)"
   ]
  },
  {
   "cell_type": "code",
   "execution_count": 3,
   "id": "0d5bfa2a-bd09-4c93-b5ba-acd20c5ed245",
   "metadata": {},
   "outputs": [
    {
     "data": {
      "text/html": [
       "<div>\n",
       "<style scoped>\n",
       "    .dataframe tbody tr th:only-of-type {\n",
       "        vertical-align: middle;\n",
       "    }\n",
       "\n",
       "    .dataframe tbody tr th {\n",
       "        vertical-align: top;\n",
       "    }\n",
       "\n",
       "    .dataframe thead th {\n",
       "        text-align: right;\n",
       "    }\n",
       "</style>\n",
       "<table border=\"1\" class=\"dataframe\">\n",
       "  <thead>\n",
       "    <tr style=\"text-align: right;\">\n",
       "      <th></th>\n",
       "      <th>age</th>\n",
       "      <th>default</th>\n",
       "      <th>balance</th>\n",
       "      <th>housing</th>\n",
       "      <th>loan</th>\n",
       "      <th>day</th>\n",
       "      <th>duration</th>\n",
       "      <th>campaign</th>\n",
       "      <th>pdays</th>\n",
       "      <th>previous</th>\n",
       "      <th>...</th>\n",
       "      <th>month_jun</th>\n",
       "      <th>month_mar</th>\n",
       "      <th>month_may</th>\n",
       "      <th>month_nov</th>\n",
       "      <th>month_oct</th>\n",
       "      <th>month_sep</th>\n",
       "      <th>poutcome_other</th>\n",
       "      <th>poutcome_success</th>\n",
       "      <th>poutcome_unknown</th>\n",
       "      <th>deposit</th>\n",
       "    </tr>\n",
       "  </thead>\n",
       "  <tbody>\n",
       "    <tr>\n",
       "      <th>0</th>\n",
       "      <td>-1.056270</td>\n",
       "      <td>-0.130759</td>\n",
       "      <td>0.121072</td>\n",
       "      <td>-1.142051</td>\n",
       "      <td>-0.424756</td>\n",
       "      <td>0.374052</td>\n",
       "      <td>-0.711861</td>\n",
       "      <td>-0.576829</td>\n",
       "      <td>-0.407218</td>\n",
       "      <td>-0.320413</td>\n",
       "      <td>...</td>\n",
       "      <td>-0.364805</td>\n",
       "      <td>-0.104676</td>\n",
       "      <td>-0.669064</td>\n",
       "      <td>-0.306828</td>\n",
       "      <td>7.450671</td>\n",
       "      <td>-0.107869</td>\n",
       "      <td>-0.213447</td>\n",
       "      <td>-0.171381</td>\n",
       "      <td>0.469300</td>\n",
       "      <td>0</td>\n",
       "    </tr>\n",
       "    <tr>\n",
       "      <th>1</th>\n",
       "      <td>-0.772583</td>\n",
       "      <td>-0.130759</td>\n",
       "      <td>1.118644</td>\n",
       "      <td>0.875617</td>\n",
       "      <td>2.354292</td>\n",
       "      <td>-0.596026</td>\n",
       "      <td>-0.169194</td>\n",
       "      <td>-0.576829</td>\n",
       "      <td>2.989044</td>\n",
       "      <td>2.041734</td>\n",
       "      <td>...</td>\n",
       "      <td>-0.364805</td>\n",
       "      <td>-0.104676</td>\n",
       "      <td>1.494626</td>\n",
       "      <td>-0.306828</td>\n",
       "      <td>-0.134216</td>\n",
       "      <td>-0.107869</td>\n",
       "      <td>-0.213447</td>\n",
       "      <td>-0.171381</td>\n",
       "      <td>-2.130831</td>\n",
       "      <td>0</td>\n",
       "    </tr>\n",
       "    <tr>\n",
       "      <th>2</th>\n",
       "      <td>-0.583458</td>\n",
       "      <td>-0.130759</td>\n",
       "      <td>-0.024144</td>\n",
       "      <td>0.875617</td>\n",
       "      <td>-0.424756</td>\n",
       "      <td>0.010273</td>\n",
       "      <td>-0.303898</td>\n",
       "      <td>-0.576829</td>\n",
       "      <td>2.899143</td>\n",
       "      <td>0.270124</td>\n",
       "      <td>...</td>\n",
       "      <td>-0.364805</td>\n",
       "      <td>-0.104676</td>\n",
       "      <td>-0.669064</td>\n",
       "      <td>-0.306828</td>\n",
       "      <td>-0.134216</td>\n",
       "      <td>-0.107869</td>\n",
       "      <td>-0.213447</td>\n",
       "      <td>-0.171381</td>\n",
       "      <td>-2.130831</td>\n",
       "      <td>0</td>\n",
       "    </tr>\n",
       "    <tr>\n",
       "      <th>3</th>\n",
       "      <td>-1.056270</td>\n",
       "      <td>-0.130759</td>\n",
       "      <td>0.017726</td>\n",
       "      <td>0.875617</td>\n",
       "      <td>2.354292</td>\n",
       "      <td>-1.566105</td>\n",
       "      <td>-0.250017</td>\n",
       "      <td>0.387967</td>\n",
       "      <td>-0.407218</td>\n",
       "      <td>-0.320413</td>\n",
       "      <td>...</td>\n",
       "      <td>2.741190</td>\n",
       "      <td>-0.104676</td>\n",
       "      <td>-0.669064</td>\n",
       "      <td>-0.306828</td>\n",
       "      <td>-0.134216</td>\n",
       "      <td>-0.107869</td>\n",
       "      <td>-0.213447</td>\n",
       "      <td>-0.171381</td>\n",
       "      <td>0.469300</td>\n",
       "      <td>0</td>\n",
       "    </tr>\n",
       "    <tr>\n",
       "      <th>4</th>\n",
       "      <td>1.686036</td>\n",
       "      <td>-0.130759</td>\n",
       "      <td>-0.472753</td>\n",
       "      <td>0.875617</td>\n",
       "      <td>-0.424756</td>\n",
       "      <td>-1.323585</td>\n",
       "      <td>-0.146102</td>\n",
       "      <td>-0.576829</td>\n",
       "      <td>-0.407218</td>\n",
       "      <td>-0.320413</td>\n",
       "      <td>...</td>\n",
       "      <td>-0.364805</td>\n",
       "      <td>-0.104676</td>\n",
       "      <td>1.494626</td>\n",
       "      <td>-0.306828</td>\n",
       "      <td>-0.134216</td>\n",
       "      <td>-0.107869</td>\n",
       "      <td>-0.213447</td>\n",
       "      <td>-0.171381</td>\n",
       "      <td>0.469300</td>\n",
       "      <td>0</td>\n",
       "    </tr>\n",
       "  </tbody>\n",
       "</table>\n",
       "<p>5 rows × 43 columns</p>\n",
       "</div>"
      ],
      "text/plain": [
       "        age   default   balance   housing      loan       day  duration  \\\n",
       "0 -1.056270 -0.130759  0.121072 -1.142051 -0.424756  0.374052 -0.711861   \n",
       "1 -0.772583 -0.130759  1.118644  0.875617  2.354292 -0.596026 -0.169194   \n",
       "2 -0.583458 -0.130759 -0.024144  0.875617 -0.424756  0.010273 -0.303898   \n",
       "3 -1.056270 -0.130759  0.017726  0.875617  2.354292 -1.566105 -0.250017   \n",
       "4  1.686036 -0.130759 -0.472753  0.875617 -0.424756 -1.323585 -0.146102   \n",
       "\n",
       "   campaign     pdays  previous  ...  month_jun  month_mar  month_may  \\\n",
       "0 -0.576829 -0.407218 -0.320413  ...  -0.364805  -0.104676  -0.669064   \n",
       "1 -0.576829  2.989044  2.041734  ...  -0.364805  -0.104676   1.494626   \n",
       "2 -0.576829  2.899143  0.270124  ...  -0.364805  -0.104676  -0.669064   \n",
       "3  0.387967 -0.407218 -0.320413  ...   2.741190  -0.104676  -0.669064   \n",
       "4 -0.576829 -0.407218 -0.320413  ...  -0.364805  -0.104676   1.494626   \n",
       "\n",
       "   month_nov  month_oct  month_sep  poutcome_other  poutcome_success  \\\n",
       "0  -0.306828   7.450671  -0.107869       -0.213447         -0.171381   \n",
       "1  -0.306828  -0.134216  -0.107869       -0.213447         -0.171381   \n",
       "2  -0.306828  -0.134216  -0.107869       -0.213447         -0.171381   \n",
       "3  -0.306828  -0.134216  -0.107869       -0.213447         -0.171381   \n",
       "4  -0.306828  -0.134216  -0.107869       -0.213447         -0.171381   \n",
       "\n",
       "   poutcome_unknown  deposit  \n",
       "0          0.469300        0  \n",
       "1         -2.130831        0  \n",
       "2         -2.130831        0  \n",
       "3          0.469300        0  \n",
       "4          0.469300        0  \n",
       "\n",
       "[5 rows x 43 columns]"
      ]
     },
     "execution_count": 3,
     "metadata": {},
     "output_type": "execute_result"
    }
   ],
   "source": [
    "df.head()"
   ]
  },
  {
   "cell_type": "code",
   "execution_count": 4,
   "id": "324e17ba-0072-4314-a96a-f5d949aa5da6",
   "metadata": {},
   "outputs": [],
   "source": [
    "scaler = StandardScaler()\n",
    "scaled_features = scaler.fit_transform(df.drop(columns=['deposit']))  # Assuming 'deposit' is the target variable"
   ]
  },
  {
   "cell_type": "code",
   "execution_count": 5,
   "id": "429db6aa-dc49-41bd-810e-d1794344188e",
   "metadata": {},
   "outputs": [],
   "source": [
    "# 30% Data is set aside for tesing\n",
    "X_train,X_test,y_train,y_test=train_test_split(scaled_features,df['deposit'],test_size=0.30, random_state=3)"
   ]
  },
  {
   "cell_type": "code",
   "execution_count": 11,
   "id": "18bb834e-1d71-4a3f-b74a-bcca595f9e7d",
   "metadata": {},
   "outputs": [
    {
     "name": "stdout",
     "output_type": "stream",
     "text": [
      "[np.float64(0.8663169348720201), np.float64(0.8764305394721079), np.float64(0.8805324841273011), np.float64(0.8808489398235035), np.float64(0.8824332148704229), np.float64(0.8824292217386096), np.float64(0.8849558758934633), np.float64(0.8884318971369245), np.float64(0.8881164397236754), np.float64(0.8877979874615661), np.float64(0.8874825300483169), np.float64(0.8859022481332108), np.float64(0.8830571417162482), np.float64(0.8827386894541389), np.float64(0.8824252286067964), np.float64(0.8833706025635907), np.float64(0.8843209679351516), np.float64(0.8868486203729585), np.float64(0.8868486203729585), np.float64(0.8862147106976002)]\n"
     ]
    }
   ],
   "source": [
    "# trying different odd values of k for KNN and finding accuracy for them\n",
    "\n",
    "knn = KNeighborsClassifier(n_neighbors=1)\n",
    "accuracy_rate=[]\n",
    "for i in range(1,40,2):\n",
    "    knn=KNeighborsClassifier(n_neighbors=i)\n",
    "    score=cross_val_score(knn,X_train,y_train,cv=10)\n",
    "    accuracy_rate.append(score.mean())\n",
    "print(accuracy_rate)"
   ]
  },
  {
   "cell_type": "code",
   "execution_count": 12,
   "id": "1b8925bd-ee2f-4e80-b540-67428a2919e5",
   "metadata": {},
   "outputs": [
    {
     "data": {
      "text/plain": [
       "Text(0, 0.5, 'Accuracy rate')"
      ]
     },
     "execution_count": 12,
     "metadata": {},
     "output_type": "execute_result"
    },
    {
     "data": {
      "image/png": "[encoded data removed]",
      "text/plain": [
       "<Figure size 2000x1200 with 1 Axes>"
      ]
     },
     "metadata": {},
     "output_type": "display_data"
    }
   ],
   "source": [
    "# plotting accuracy of KNN for every value of K. Accuracy is highest when K=9\n",
    "\n",
    "plt.figure(figsize=(20,12))\n",
    "plt.plot(range(1,40,2),accuracy_rate,color='green',linestyle='dashed',marker='o',markerfacecolor='yellow',markersize=10)\n",
    "plt.title('Accuracy rate vs k value')\n",
    "plt.xlabel('k')\n",
    "plt.ylabel('Accuracy rate')"
   ]
  },
  {
   "cell_type": "code",
   "execution_count": 13,
   "id": "67a89e08-f379-474c-b398-fe923e363b91",
   "metadata": {},
   "outputs": [
    {
     "name": "stdout",
     "output_type": "stream",
     "text": [
      "[[1186   15]\n",
      " [ 135   21]]\n",
      "              precision    recall  f1-score   support\n",
      "\n",
      "           0       0.90      0.99      0.94      1201\n",
      "           1       0.58      0.13      0.22       156\n",
      "\n",
      "    accuracy                           0.89      1357\n",
      "   macro avg       0.74      0.56      0.58      1357\n",
      "weighted avg       0.86      0.89      0.86      1357\n",
      "\n",
      "AUC score for KNN is  0.7884081641367237\n",
      "Test Accuracy score for KNN is  0.8894620486366986\n",
      "Train Accuracy score for KNN is  0.8928571428571429\n"
     ]
    }
   ],
   "source": [
    "# TRaining KNN agaib for best value of K\n",
    "# Finding Accuracy, AUC, False positive rate, True positive rate, confusion matrix and classificatio report\n",
    "\n",
    "knn = KNeighborsClassifier(n_neighbors=15)\n",
    "knn.fit(X_train,y_train)\n",
    "pred=knn.predict(X_test)\n",
    "y_pred_prob = knn.predict_proba(X_test)\n",
    "aucScoreKNN = roc_auc_score(y_test,  y_pred_prob[:,1])\n",
    "fprKNN, tprKNN, thresholds = roc_curve(y_test, y_pred_prob[:,1] )\n",
    "print(confusion_matrix(y_test,pred))\n",
    "print(classification_report(y_test,pred))\n",
    "print(\"AUC score for KNN is \",aucScoreKNN)\n",
    "print(\"Test Accuracy score for KNN is \",accuracy_score(y_test, pred))\n",
    "predT=knn.predict(X_train)\n",
    "print(\"Train Accuracy score for KNN is \",accuracy_score(y_train, predT))\n",
    "#print(\"Best parameters for KNN are \",knn.best_params_)\n"
   ]
  },
  {
   "cell_type": "code",
   "execution_count": 14,
   "id": "c78160f8-0c5e-47f5-a5db-2a9cf351dab2",
   "metadata": {},
   "outputs": [
    {
     "name": "stdout",
     "output_type": "stream",
     "text": [
      "[np.float64(0.31493993993993996), np.float64(0.20262762762762768), np.float64(0.18055555555555558), np.float64(0.15075075075075076), np.float64(0.14256756756756758), np.float64(0.1316066066066066), np.float64(0.13145645645645648), np.float64(0.14234234234234236), np.float64(0.1424924924924925), np.float64(0.14504504504504503), np.float64(0.13678678678678677), np.float64(0.12575075075075076), np.float64(0.09842342342342343), np.float64(0.09564564564564565), np.float64(0.09564564564564565), np.float64(0.08746246246246248), np.float64(0.07387387387387387), np.float64(0.07665165165165166), np.float64(0.06846846846846848), np.float64(0.06013513513513513)]\n"
     ]
    }
   ],
   "source": [
    "# Training KNN for different odd values of K to find maximum Recall\n",
    "\n",
    "knn = KNeighborsClassifier()\n",
    "recall_rate=[]\n",
    "for i in range(1,40,2):\n",
    "    knn=KNeighborsClassifier(n_neighbors=i)\n",
    "    score=cross_val_score(knn,X_train,y_train,cv=10,scoring='recall')\n",
    "    recall_rate.append(score.mean())\n",
    "print(recall_rate)"
   ]
  },
  {
   "cell_type": "code",
   "execution_count": 15,
   "id": "f2b55b30-f800-4820-a2c5-b1dc852f022a",
   "metadata": {},
   "outputs": [
    {
     "data": {
      "text/plain": [
       "Text(0, 0.5, 'Accuracy rate')"
      ]
     },
     "execution_count": 15,
     "metadata": {},
     "output_type": "execute_result"
    },
    {
     "data": {
      "image/png": "[encoded data removed]",
      "text/plain": [
       "<Figure size 2000x1200 with 1 Axes>"
      ]
     },
     "metadata": {},
     "output_type": "display_data"
    }
   ],
   "source": [
    "# plotting recall of values of K\n",
    "\n",
    "plt.figure(figsize=(20,12))\n",
    "plt.plot(range(1,40,2),recall_rate,color='green',linestyle='dashed',marker='o',markerfacecolor='yellow',markersize=10)\n",
    "plt.title('Accuracy rate vs k value')\n",
    "plt.xlabel('k')\n",
    "plt.ylabel('Accuracy rate')"
   ]
  },
  {
   "cell_type": "code",
   "execution_count": 16,
   "id": "1ea72c2f-9124-4ddf-b176-92bb16714f87",
   "metadata": {},
   "outputs": [
    {
     "name": "stdout",
     "output_type": "stream",
     "text": [
      "Test Recall score for KNN is  0.33974358974358976\n",
      "Train Recall score for KNN is  1.0\n"
     ]
    }
   ],
   "source": [
    "\n",
    "knn = KNeighborsClassifier(n_neighbors=1)\n",
    "knn.fit(X_train,y_train)\n",
    "pred=knn.predict(X_test)\n",
    "print(\"Test Recall score for KNN is \",recall_score(y_test, pred))\n",
    "predT=knn.predict(X_train)\n",
    "print(\"Train Recall score for KNN is \",recall_score(y_train, predT))\n",
    "#print(\"Best parameters for KNN are \",knn.best_params_)\n"
   ]
  },
  {
   "cell_type": "markdown",
   "id": "7aa62646-ac19-40cf-b2b5-6dc22cf3149e",
   "metadata": {},
   "source": [
    "**Notes:**\n"
   ]
  },
  {
   "cell_type": "markdown",
   "id": "9df9a9cb-ff0e-4803-906b-848677d9c80e",
   "metadata": {},
   "source": [
    "1. KNN gives accuracy of 0.88 which is decent\n",
    "2. There is not much difference between train and test accuracy so its not overfitting or underfitting\n",
    "3. Recall is 0.33 which is not very good"
   ]
  },
  {
   "cell_type": "markdown",
   "id": "714bfe84-2960-4750-b498-cd0b45aae23b",
   "metadata": {},
   "source": [
    "# Applying Naive Bayes"
   ]
  },
  {
   "cell_type": "code",
   "execution_count": 17,
   "id": "39ffb1e0-cf6d-441d-97df-157c534ba7f3",
   "metadata": {},
   "outputs": [
    {
     "name": "stdout",
     "output_type": "stream",
     "text": [
      "[[1079  122]\n",
      " [  87   69]]\n",
      "              precision    recall  f1-score   support\n",
      "\n",
      "           0       0.93      0.90      0.91      1201\n",
      "           1       0.36      0.44      0.40       156\n",
      "\n",
      "    accuracy                           0.85      1357\n",
      "   macro avg       0.64      0.67      0.65      1357\n",
      "weighted avg       0.86      0.85      0.85      1357\n",
      "\n",
      "AUC score for NB is  0.7871485300710946\n",
      "Test Accuracy score for NB is  0.8459837877671333\n",
      "Train Accuracy score for NB is  0.8530341340075853\n",
      "Recall score for NB is  0.4423076923076923\n"
     ]
    }
   ],
   "source": [
    "# Training Naive bayes\n",
    "# Finding Accuracy, AUC, False positive rate, True positive rate, confusion matrix and classificatio report\n",
    "\n",
    "gnb = GaussianNB()\n",
    "gnb.fit(X_train, y_train)\n",
    "pred = gnb.predict(X_test)\n",
    "accNB = accuracy_score(y_test, pred)\n",
    "y_pred_prob = gnb.predict_proba(X_test)\n",
    "aucScoreNB = roc_auc_score(y_test,  y_pred_prob[:,1])\n",
    "fprNB, tprNB, thresholds = roc_curve(y_test, y_pred_prob[:,1] )\n",
    "print(confusion_matrix(y_test,pred))\n",
    "print(classification_report(y_test,pred))\n",
    "print(\"AUC score for NB is \",aucScoreNB)\n",
    "print(\"Test Accuracy score for NB is \",accuracy_score(y_test, pred))\n",
    "predT=gnb.predict(X_train)\n",
    "print(\"Train Accuracy score for NB is \",accuracy_score(y_train, predT))\n",
    "#print(\"Best parameters for NB are \",gnb.best_params_)\n",
    "print(\"Recall score for NB is \",recall_score(y_test, pred))"
   ]
  },
  {
   "cell_type": "markdown",
   "id": "bd41d137-6537-40cb-9b24-4a5b20df987b",
   "metadata": {},
   "source": [
    "**Notes:**\n",
    "1. Naive Bayes gives accuracy of 0.84 which is decent but not good\n",
    "2. There is very less difference between train and test accuracy so its not overfitting or underfitting\n",
    "3. Recall is 0.44 which is very poor "
   ]
  },
  {
   "cell_type": "markdown",
   "id": "8fe76e88-3f10-4838-a835-1d4f0d8bcb97",
   "metadata": {},
   "source": [
    "# Applying Logistic Regression"
   ]
  },
  {
   "cell_type": "code",
   "execution_count": 18,
   "id": "d60ab641-31c4-40b1-be25-2e7b8633fc19",
   "metadata": {},
   "outputs": [],
   "source": [
    "param_grid = [    \n",
    "    {'penalty' : ['l1', 'l2', 'elasticnet', 'none'],\n",
    "    'C' : np.logspace(-4, 4, 20),\n",
    "    'solver' : ['lbfgs','newton-cg','liblinear','sag','saga'],\n",
    "    'max_iter' : [100, 1000,2500, 10000]\n",
    "    }\n",
    "]\n",
    "logModel = LogisticRegression()"
   ]
  },
  {
   "cell_type": "markdown",
   "id": "9d52e7b7-5283-4774-9af7-863e1009cc20",
   "metadata": {},
   "source": [
    "**Notes:**\n",
    "1. Hyperparameters for Logistic Regression\n",
    "2. Penalty indicates which regularization to use\n",
    "3. C decides how much weightage is given to Regularization\n",
    "4. Solver is the technique used internally\n",
    "5. max_iter is the number of iterations for convergence"
   ]
  },
  {
   "cell_type": "code",
   "execution_count": null,
   "id": "45e7dd07-5100-4cde-adde-41088312a8ca",
   "metadata": {},
   "outputs": [],
   "source": [
    "#GridserchCV tries all possible combinations of hyperparameters to find best accuracy\n",
    "\n",
    "clf = GridSearchCV(logModel, param_grid = param_grid,scoring='accuracy', cv = 5 )\n",
    "best_clf = clf.fit(X_train,y_train)"
   ]
  },
  {
   "cell_type": "code",
   "execution_count": null,
   "id": "9861c498-7cce-4260-81be-9c7520bb9ea9",
   "metadata": {},
   "outputs": [],
   "source": [
    "# Training Logistic Regression\n",
    "# Finding Accuracy, AUC, False positive rate, True positive rate, confusion matrix and classificatio report\n",
    "\n",
    "pred = best_clf.predict(X_test)\n",
    "accLR = accuracy_score(y_test, pred)\n",
    "y_pred_prob = best_clf.predict_proba(X_test)\n",
    "aucScoreLR = roc_auc_score(y_test,  y_pred_prob[:,1])\n",
    "fprLR, tprLR, thresholds = roc_curve(y_test, y_pred_prob[:,1] )\n",
    "print(confusion_matrix(y_test,pred))\n",
    "print(classification_report(y_test,pred))\n",
    "print(\"AUC score for LR is \",aucScoreLR)\n",
    "print(\"Test Accuracy score for LR is \",accuracy_score(y_test, pred))\n",
    "predT=best_clf.predict(X_train)\n",
    "print(\"Train Accuracy score for LR is \",accuracy_score(y_train, predT))\n",
    "print(\"Best parameters for accuracy of LR are \",best_clf.best_params_)\n"
   ]
  },
  {
   "cell_type": "code",
   "execution_count": null,
   "id": "aeeaa27b-fa86-4e29-af28-baefdb9cb53f",
   "metadata": {},
   "outputs": [],
   "source": [
    "# Training Logistic Regression for recall\n",
    "\n",
    "clfR = GridSearchCV(logModel, param_grid = param_grid,scoring='recall', cv = 5 )\n",
    "best_clfR = clfR.fit(X_train,y_train)"
   ]
  },
  {
   "cell_type": "code",
   "execution_count": null,
   "id": "9fdcc1f7-9ac5-43cf-8320-029c641f7ebe",
   "metadata": {},
   "outputs": [],
   "source": [
    "# print recall and best parameters\n",
    "\n",
    "predR = best_clfR.predict(X_test)\n",
    "predRT=best_clfR.predict(X_train)\n",
    "recallLR=recall_score(y_test, predR)\n",
    "print(\"Test Recall score for LR is \",recallLR)\n",
    "print(\"Train recall score for LR is \",recall_score(y_train, predRT))\n",
    "print(\"Best parameters for recall of LR are \",best_clfR.best_params_)\n"
   ]
  },
  {
   "cell_type": "markdown",
   "id": "4e1a8d9c-bcff-4531-876e-8036534d2c67",
   "metadata": {},
   "source": [
    "**Notes:**\n",
    "\n",
    "1.  Logistic Regression gives accuracy of 0.37 which is not good\n",
    "2.  There is very less difference between train and test accuracy so its not overfitting or underfitting\n",
    "3.  Recall is 0.35 which is not very good\n"
   ]
  },
  {
   "cell_type": "markdown",
   "id": "cdfc8b28-925f-4a84-a187-398136a17e63",
   "metadata": {},
   "source": [
    "# Logistic Regression with Polynomial Features(degree =2)"
   ]
  },
  {
   "cell_type": "code",
   "execution_count": null,
   "id": "c1767d7a-debb-428f-b830-c2928343b13f",
   "metadata": {},
   "outputs": [],
   "source": [
    "# Logistic regression with polynomial features works better with normalozation instead of standardization\n",
    "# so read file again\n",
    "\n",
    "df=pd.read_csv(\"standardisedBank.csv\").drop(['Unnamed: 0'],axis=1)\n",
    "dfX=df.drop('deposit',axis=1)\n",
    "df.head()"
   ]
  },
  {
   "cell_type": "code",
   "execution_count": null,
   "id": "c690348e-4641-49d4-bf69-5432703c5df4",
   "metadata": {},
   "outputs": [],
   "source": [
    "# Minmaxscaler is used to normalise data\n",
    "\n",
    "scaler = MinMaxScaler()\n",
    "bankMM = scaler.fit_transform(dfX)\n",
    "bankMM = pd.DataFrame(bankMM, columns=dfX.columns)\n",
    "bankMM.head()"
   ]
  },
  {
   "cell_type": "code",
   "execution_count": null,
   "id": "eb6fd263-8b39-46fa-8406-90223da086e6",
   "metadata": {},
   "outputs": [],
   "source": [
    "# train test split (70:30)\n",
    "X_train,X_test,y_train,y_test=train_test_split(bankMM,df['deposit'],test_size=0.30, random_state=3)"
   ]
  },
  {
   "cell_type": "code",
   "execution_count": null,
   "id": "158f30a3-a4ad-46a5-9bb3-22cd3efb97fc",
   "metadata": {},
   "outputs": [],
   "source": [
    "# creating polynomial features with degree 2\n",
    "poly2 = PolynomialFeatures(degree=2)\n",
    "X_trainP=poly2.fit_transform(X_train)"
   ]
  },
  {
   "cell_type": "code",
   "execution_count": null,
   "id": "7f459942-c38d-455c-9c24-eeb941f10653",
   "metadata": {},
   "outputs": [],
   "source": [
    "# Hyperparameters \n",
    "param_grid = {'penalty' : ['l1', 'l2'], 'C' : [0.001,0.01,0.1,1,5,25]    }"
   ]
  },
  {
   "cell_type": "code",
   "execution_count": null,
   "id": "00f34410-5ef5-4621-8197-c5c57cdb49cf",
   "metadata": {},
   "outputs": [],
   "source": [
    "#GridserchCV tries all possible combinations of hyperparameters to find best accuracy\n",
    "\n",
    "logModel = LogisticRegression()\n",
    "clf = GridSearchCV(logModel, param_grid = param_grid,scoring='accuracy',verbose=True, cv = 5,n_jobs=-1 )\n",
    "best_clf = clf.fit(X_trainP,y_train)"
   ]
  },
  {
   "cell_type": "code",
   "execution_count": null,
   "id": "f6bb3c61-9163-452f-b07b-10ce3d9a16da",
   "metadata": {},
   "outputs": [],
   "source": [
    "# create polynomial features with degree 2 for test data\n",
    "X_testP=poly2.fit_transform(X_test)"
   ]
  },
  {
   "cell_type": "code",
   "execution_count": null,
   "id": "4c5d4755-b8d6-4f3c-9f41-fcf47f663d7e",
   "metadata": {},
   "outputs": [],
   "source": [
    "# Training Logistic Regression with polynomial features with degree 2\n",
    "# Finding Accuracy, AUC, False positive rate, True positive rate, confusion matrix and classificatio report\n",
    "# get best parameters for retraining\n",
    "\n",
    "pred = best_clf.predict(X_testP)\n",
    "accLRP2 = accuracy_score(y_test, pred)\n",
    "y_pred_prob = best_clf.predict_proba(X_testP)\n",
    "aucScoreLRP2 = roc_auc_score(y_test,  y_pred_prob[:,1])\n",
    "fprLRP2, tprLRP2, thresholds = roc_curve(y_test, y_pred_prob[:,1] )\n",
    "print(confusion_matrix(y_test,pred))\n",
    "print(classification_report(y_test,pred))\n",
    "print(\"AUC score for LR Poly2 is \",aucScoreLRP2)\n",
    "print(\"Test Accuracy score for LR Poly2 is \",accLRP2)\n",
    "predT=best_clf.predict(X_trainP)\n",
    "print(\"Train Accuracy score for LR Poly2 is \",accuracy_score(y_train, predT))\n",
    "print(\"Best parameters for LR are \",best_clf.best_params_)"
   ]
  },
  {
   "cell_type": "code",
   "execution_count": null,
   "id": "34c37410-7937-4fd1-929c-193748edcd27",
   "metadata": {},
   "outputs": [],
   "source": [
    "logModel = LogisticRegression()\n",
    "clfR = GridSearchCV(logModel, param_grid = param_grid,scoring='recall',verbose=True, cv = 5,n_jobs=-1 )\n",
    "best_clfR = clfR.fit(X_trainP,y_train)"
   ]
  },
  {
   "cell_type": "code",
   "execution_count": null,
   "id": "bd8d883a-9c47-4ace-8a64-d051a9ce38fe",
   "metadata": {},
   "outputs": [],
   "source": [
    "# Training Logistic Regression for recall\n",
    "\n",
    "predR = best_clfR.predict(X_testP)\n",
    "predRT=best_clfR.predict(X_trainP)\n",
    "recallLRP2=recall_score(y_test, predR)\n",
    "print(\"Test Recall score for LR with polynomial features degree 2  is \",recallLRP2)\n",
    "print(\"Train recall score for LR with polynomial features degree 2 is \",recall_score(y_train, predRT))\n",
    "print(\"Best parameters for recall of LR with polynomial features degree 2 are \",best_clfR.best_params_)"
   ]
  },
  {
   "cell_type": "markdown",
   "id": "6bdc87ac-ff55-4bcd-a6b7-018370b73447",
   "metadata": {},
   "source": [
    "**Notes:**\n",
    "1. Logistic regression with polynomial features degree 2 gives accuracy of 0.90 which is quite good\n",
    "2. There is very less difference between train and test accuracy so its not overfitting or underfitting\n",
    "3. Recall is 0.41 which is not good"
   ]
  },
  {
   "cell_type": "markdown",
   "id": "f640252b-07f7-4c90-98ac-a51ec17cc54e",
   "metadata": {},
   "source": [
    "# Logistic Regression with Polnomian Features(degree=3)"
   ]
  },
  {
   "cell_type": "code",
   "execution_count": 45,
   "id": "f77aa434-0068-47f4-8479-186e6f0e2f8a",
   "metadata": {},
   "outputs": [],
   "source": [
    "poly3 = PolynomialFeatures(degree=3)\n",
    "X_trainP=poly3.fit_transform(X_train)"
   ]
  },
  {
   "cell_type": "code",
   "execution_count": 46,
   "id": "1cab9a1f-5a8d-44be-818f-1a437cb39516",
   "metadata": {},
   "outputs": [
    {
     "name": "stdout",
     "output_type": "stream",
     "text": [
      "Fitting 5 folds for each of 12 candidates, totalling 60 fits\n"
     ]
    }
   ],
   "source": [
    "logModel = LogisticRegression()\n",
    "clf = GridSearchCV(logModel, param_grid = param_grid,scoring='accuracy',verbose=True, cv = 5,n_jobs=-1 )\n",
    "best_clf = clf.fit(X_trainP,y_train)"
   ]
  },
  {
   "cell_type": "code",
   "execution_count": 47,
   "id": "ccc283d4-e5a7-4875-b9a2-439f046cf9c1",
   "metadata": {},
   "outputs": [],
   "source": [
    "# create polynomial features with degree 2 for test data\n",
    "X_testP=poly3.fit_transform(X_test)"
   ]
  },
  {
   "cell_type": "code",
   "execution_count": 48,
   "id": "e24ac5e7-b6f9-4869-9371-bedc74cfcc83",
   "metadata": {},
   "outputs": [
    {
     "name": "stdout",
     "output_type": "stream",
     "text": [
      "[[1154   47]\n",
      " [  99   57]]\n",
      "              precision    recall  f1-score   support\n",
      "\n",
      "           0       0.92      0.96      0.94      1201\n",
      "           1       0.55      0.37      0.44       156\n",
      "\n",
      "    accuracy                           0.89      1357\n",
      "   macro avg       0.73      0.66      0.69      1357\n",
      "weighted avg       0.88      0.89      0.88      1357\n",
      "\n",
      "AUC score for LR Poly3 is  0.858995708704285\n",
      "Test Accuracy score for LR Poly3 is  0.89240972733972\n",
      "Train Accuracy score for LR Poly3 is  0.9664981036662452\n",
      "Best parameters for LR are  {'C': 1, 'penalty': 'l2'}\n"
     ]
    }
   ],
   "source": [
    "# Training Logistic Regression with polynomial features with degree 3\n",
    "# Finding Accuracy, AUC, False positive rate, True positive rate, confusion matrix a1nd classificatio report\n",
    "# get best parameters for retraining\n",
    "\n",
    "pred = best_clf.predict(X_testP)\n",
    "accLRP3 = accuracy_score(y_test, pred)\n",
    "y_pred_prob = best_clf.predict_proba(X_testP)\n",
    "aucScoreLRP3 = roc_auc_score(y_test,  y_pred_prob[:,1])\n",
    "fprLRP3, tprLRP3, thresholds = roc_curve(y_test, y_pred_prob[:,1] )\n",
    "print(confusion_matrix(y_test,pred))\n",
    "print(classification_report(y_test,pred))\n",
    "print(\"AUC score for LR Poly3 is \",aucScoreLRP3)\n",
    "print(\"Test Accuracy score for LR Poly3 is \",accLRP3)\n",
    "predT=best_clf.predict(X_trainP)\n",
    "print(\"Train Accuracy score for LR Poly3 is \",accuracy_score(y_train, predT))\n",
    "print(\"Best parameters for LR are \",best_clf.best_params_)"
   ]
  },
  {
   "cell_type": "code",
   "execution_count": 49,
   "id": "dd57427b-5533-4804-8a22-72c3fc85987e",
   "metadata": {},
   "outputs": [
    {
     "name": "stdout",
     "output_type": "stream",
     "text": [
      "Fitting 5 folds for each of 12 candidates, totalling 60 fits\n"
     ]
    }
   ],
   "source": [
    "# Training Logistic Regression for recall\n",
    "\n",
    "logModel = LogisticRegression()\n",
    "clfR = GridSearchCV(logModel, param_grid = param_grid,scoring='recall',verbose=True, cv = 5,n_jobs=-1 )\n",
    "best_clfR = clfR.fit(X_trainP,y_train)"
   ]
  },
  {
   "cell_type": "code",
   "execution_count": 50,
   "id": "d21e5d2e-90e2-4a59-8e6d-129a0c21be09",
   "metadata": {},
   "outputs": [
    {
     "name": "stdout",
     "output_type": "stream",
     "text": [
      "Test Recall score for LR with polynomial features degree 3  is  0.4166666666666667\n",
      "Train recall score for LR with polynomial features degree 3 is  0.9397260273972603\n",
      "Best parameters for recall of LR with polynomial features degree 3 are  {'C': 25, 'penalty': 'l2'}\n"
     ]
    }
   ],
   "source": [
    "predR = best_clfR.predict(X_testP)\n",
    "predRT=best_clfR.predict(X_trainP)\n",
    "recallLRP3=recall_score(y_test, predR)\n",
    "print(\"Test Recall score for LR with polynomial features degree 3  is \",recallLRP3)\n",
    "print(\"Train recall score for LR with polynomial features degree 3 is \",recall_score(y_train, predRT))\n",
    "print(\"Best parameters for recall of LR with polynomial features degree 3 are \",best_clfR.best_params_)"
   ]
  },
  {
   "cell_type": "markdown",
   "id": "0498c6bd-53a0-47c6-b4c7-fe0eed5ec46e",
   "metadata": {},
   "source": [
    "# Applying SVM"
   ]
  },
  {
   "cell_type": "code",
   "execution_count": 7,
   "id": "6a844cbf-c07b-4ffc-8d7b-c37c52e9bafa",
   "metadata": {},
   "outputs": [],
   "source": [
    "classifier = SVC(probability=True)  \n",
    "parameters=[{'C':[1,10,100,1000],'kernel':['linear']},\n",
    "            {'C':[1,10,100,1000],'kernel':['rbf'], 'gamma':[0.1,0.2,0.3,0.4,0.5,0.6,0.7,0.8,0.9]},\n",
    "            {'C':[1,10,100,1000],'kernel': ['poly'], 'degree':[2,3,4]}      ]"
   ]
  },
  {
   "cell_type": "code",
   "execution_count": 18,
   "id": "0b764dd7-261d-4342-ad6e-b1e423afb5cb",
   "metadata": {},
   "outputs": [],
   "source": [
    "clf = HalvingGridSearchCV(estimator=classifier, param_grid=parameters, scoring='accuracy', factor=2, cv=3, n_jobs=-1)\n",
    "best_clf = clf.fit(X_train, y_train)"
   ]
  },
  {
   "cell_type": "code",
   "execution_count": 19,
   "id": "9b03f9dd-3b26-4842-b6ce-7f35c9e7222e",
   "metadata": {},
   "outputs": [
    {
     "name": "stdout",
     "output_type": "stream",
     "text": [
      "[[1197    4]\n",
      " [ 154    2]]\n",
      "              precision    recall  f1-score   support\n",
      "\n",
      "           0       0.89      1.00      0.94      1201\n",
      "           1       0.33      0.01      0.02       156\n",
      "\n",
      "    accuracy                           0.88      1357\n",
      "   macro avg       0.61      0.50      0.48      1357\n",
      "weighted avg       0.82      0.88      0.83      1357\n",
      "\n",
      "AUC score for SVM is  0.7833909776041332\n",
      "Test Accuracy score for SVM is  0.8835666912306559\n",
      "Train Accuracy score for SVM is  1.0\n",
      "Best parameters for SVM are  {'C': 100, 'gamma': 0.8, 'kernel': 'rbf'}\n"
     ]
    }
   ],
   "source": [
    "# Training SVM\n",
    "# Finding Accuracy, AUC, False positive rate, True positive rate, confusion matrix and classificatio report\n",
    "# get best parameters for retraining\n",
    "\n",
    "pred = best_clf.predict(X_test)\n",
    "accSVM = accuracy_score(y_test, pred)\n",
    "y_pred_prob = best_clf.predict_proba(X_test)\n",
    "aucScoreSVM = roc_auc_score(y_test,  y_pred_prob[:,1])\n",
    "fprSVM, tprSVM, thresholds = roc_curve(y_test, y_pred_prob[:,1] )\n",
    "print(confusion_matrix(y_test,pred))\n",
    "print(classification_report(y_test,pred))\n",
    "print(\"AUC score for SVM is \",aucScoreSVM)\n",
    "print(\"Test Accuracy score for SVM is \",accuracy_score(y_test, pred))\n",
    "predT=best_clf.predict(X_train)\n",
    "print(\"Train Accuracy score for SVM is \",accuracy_score(y_train, predT))\n",
    "print(\"Best parameters for SVM are \",best_clf.best_params_)"
   ]
  },
  {
   "cell_type": "code",
   "execution_count": 8,
   "id": "4fd1ed04-ca35-438c-9c02-0779ae9b9c86",
   "metadata": {},
   "outputs": [],
   "source": [
    "clfR = HalvingGridSearchCV(estimator=classifier, param_grid=parameters, scoring='recall', factor=2, cv=3, n_jobs=-1)\n",
    "best_clfR = clfR.fit(X_train, y_train)"
   ]
  },
  {
   "cell_type": "code",
   "execution_count": 9,
   "id": "e728d2b9-4186-4627-8244-020c7cc5b586",
   "metadata": {},
   "outputs": [
    {
     "name": "stdout",
     "output_type": "stream",
     "text": [
      "Test Recall score for SVM is  0.46153846153846156\n",
      "Train recall score for SVM is  0.9972602739726028\n",
      "Best parameters for recall of SVM are  {'C': 1000, 'degree': 3, 'kernel': 'poly'}\n"
     ]
    }
   ],
   "source": [
    "predR = best_clfR.predict(X_test)\n",
    "predRT=best_clfR.predict(X_train)\n",
    "recallSVM=recall_score(y_test, predR)\n",
    "print(\"Test Recall score for SVM is \",recallSVM)\n",
    "print(\"Train recall score for SVM is \",recall_score(y_train, predRT))\n",
    "print(\"Best parameters for recall of SVM are \",best_clfR.best_params_)"
   ]
  },
  {
   "cell_type": "markdown",
   "id": "c6282e96-a4e1-4cdc-b9d4-0e7002b846f1",
   "metadata": {},
   "source": [
    "**Notes:**\n",
    "1. Support vector machines gives accuracy of 0.88 which is quite good\n",
    "2. There is slight difference between train and test accuracy so there is slight overfitting\n",
    "3. Recall is 0.46 which is not good"
   ]
  },
  {
   "cell_type": "markdown",
   "id": "83198770-e566-4760-a55e-5ebe65c8b966",
   "metadata": {},
   "source": [
    "# Applying Decision Tree"
   ]
  },
  {
   "cell_type": "code",
   "execution_count": 10,
   "id": "e211c909-595f-41e3-a9a0-fe3645ce46f2",
   "metadata": {},
   "outputs": [],
   "source": [
    "dfX=df.drop('deposit',axis=1)\n",
    "dfX.head()\n",
    "X_train,X_test,y_train,y_test=train_test_split(dfX,df['deposit'],test_size=0.30, random_state=3)"
   ]
  },
  {
   "cell_type": "code",
   "execution_count": 11,
   "id": "5b5e7ce8-7d88-43f6-b797-05599fec8d90",
   "metadata": {},
   "outputs": [],
   "source": [
    "dt=DecisionTreeClassifier()\n",
    "parameters={'max_depth':[1,2,3,4,5,6,7,8,9,10,11,12,13,14,15],\n",
    "            'min_samples_leaf':[1,2,3,4,5],\n",
    "            'min_samples_split':[2,3,4,5],\n",
    "            'criterion':['gini','entropy']}"
   ]
  },
  {
   "cell_type": "code",
   "execution_count": 12,
   "id": "26a38ec2-9a7c-4636-bed8-f2a86ce84ced",
   "metadata": {},
   "outputs": [
    {
     "name": "stdout",
     "output_type": "stream",
     "text": [
      "Fitting 5 folds for each of 600 candidates, totalling 3000 fits\n"
     ]
    }
   ],
   "source": [
    "clf = GridSearchCV(dt,parameters,scoring='accuracy',verbose=True)\n",
    "best_clf = clf.fit(X_train,y_train)"
   ]
  },
  {
   "cell_type": "code",
   "execution_count": 13,
   "id": "1bbc4448-b5ab-43d6-b859-9f8edf97b81e",
   "metadata": {},
   "outputs": [
    {
     "name": "stdout",
     "output_type": "stream",
     "text": [
      "[[1156   45]\n",
      " [  94   62]]\n",
      "              precision    recall  f1-score   support\n",
      "\n",
      "           0       0.92      0.96      0.94      1201\n",
      "           1       0.58      0.40      0.47       156\n",
      "\n",
      "    accuracy                           0.90      1357\n",
      "   macro avg       0.75      0.68      0.71      1357\n",
      "weighted avg       0.89      0.90      0.89      1357\n",
      "\n",
      "AUC score for Decision Tree is  0.855849292256453\n",
      "Test Accuracy score for DT is  0.8975681650700074\n",
      "Train Accuracy score for DT is  0.9162452591656132\n",
      "Best parameters for DT are  {'criterion': 'entropy', 'max_depth': 5, 'min_samples_leaf': 5, 'min_samples_split': 3}\n"
     ]
    }
   ],
   "source": [
    "# Training Decision Tree\n",
    "# Finding Accuracy, AUC, False positive rate, True positive rate, confusion matrix and classificatio report\n",
    "# get best parameters for retraining\n",
    "\n",
    "pred = best_clf.predict(X_test)\n",
    "accDT = accuracy_score(y_test, pred)\n",
    "y_pred_prob = best_clf.predict_proba(X_test)\n",
    "aucScoreDT = roc_auc_score(y_test,  y_pred_prob[:,1])\n",
    "fprDT, tprDT, thresholds = roc_curve(y_test, y_pred_prob[:,1] )\n",
    "print(confusion_matrix(y_test,pred))\n",
    "print(classification_report(y_test,pred))\n",
    "print(\"AUC score for Decision Tree is \",aucScoreDT)\n",
    "print(\"Test Accuracy score for DT is \",accuracy_score(y_test, pred))\n",
    "predT=best_clf.predict(X_train)\n",
    "print(\"Train Accuracy score for DT is \",accuracy_score(y_train, predT))\n",
    "print(\"Best parameters for DT are \",best_clf.best_params_)"
   ]
  },
  {
   "cell_type": "code",
   "execution_count": 14,
   "id": "990a998f-01f4-4d88-824e-615f39a81a0d",
   "metadata": {},
   "outputs": [
    {
     "name": "stdout",
     "output_type": "stream",
     "text": [
      "Fitting 5 folds for each of 600 candidates, totalling 3000 fits\n"
     ]
    }
   ],
   "source": [
    "#Gridsearchcv Training Decision Tree for recall\n",
    "\n",
    "clfR = GridSearchCV(dt,parameters,scoring='recall',verbose=True)\n",
    "best_clfR = clfR.fit(X_train,y_train)"
   ]
  },
  {
   "cell_type": "code",
   "execution_count": 15,
   "id": "04253b53-c8c4-410a-9d5b-25afe7595a58",
   "metadata": {},
   "outputs": [
    {
     "name": "stdout",
     "output_type": "stream",
     "text": [
      "Test Recall score for DT is  0.3974358974358974\n",
      "Train recall score for DT is  0.8191780821917808\n",
      "Best parameters for recall of DT are  {'criterion': 'entropy', 'max_depth': 14, 'min_samples_leaf': 1, 'min_samples_split': 2}\n"
     ]
    }
   ],
   "source": [
    "predR = best_clfR.predict(X_test)\n",
    "predRT=best_clfR.predict(X_train)\n",
    "recallDT=recall_score(y_test, predR)\n",
    "print(\"Test Recall score for DT is \",recallDT)\n",
    "print(\"Train recall score for DT is \",recall_score(y_train, predRT))\n",
    "print(\"Best parameters for recall of DT are \",best_clfR.best_params_)"
   ]
  },
  {
   "cell_type": "markdown",
   "id": "4160db6a-d27f-430a-abb6-83618ccdd18c",
   "metadata": {},
   "source": [
    "**Notes:**\n",
    "1. Decision Tree gives accuracy of 0.89 which is quite good\n",
    "2. There is very less difference between train and test accuracy so its not overfitting or underfitting\n",
    "3. Recall is 0.39 which is not good"
   ]
  },
  {
   "cell_type": "markdown",
   "id": "46696902-396e-4cd5-aff4-3a2f29067eb6",
   "metadata": {},
   "source": [
    "# Applying Random Forest"
   ]
  },
  {
   "cell_type": "markdown",
   "id": "6c6704a5-f6d1-4ebd-816d-ef8296cb045e",
   "metadata": {},
   "source": [
    "rf = RandomForestClassifier()\n",
    "\n",
    "parameters={'bootstrap': [True, False],\n",
    " 'max_features': ['auto', 'sqrt'],\n",
    " 'min_samples_leaf': [1, 2, 4],\n",
    " 'min_samples_split': [2, 5, 10],\n",
    " 'n_estimators': [500, 1000, 1500,  2000]}"
   ]
  },
  {
   "cell_type": "code",
   "execution_count": 14,
   "id": "36776592-572a-434d-aa18-7e1ae654868f",
   "metadata": {},
   "outputs": [
    {
     "ename": "NameError",
     "evalue": "name 'SMOTE' is not defined",
     "output_type": "error",
     "traceback": [
      "\u001b[31m---------------------------------------------------------------------------\u001b[39m",
      "\u001b[31mNameError\u001b[39m                                 Traceback (most recent call last)",
      "\u001b[36mCell\u001b[39m\u001b[36m \u001b[39m\u001b[32mIn[14]\u001b[39m\u001b[32m, line 1\u001b[39m\n\u001b[32m----> \u001b[39m\u001b[32m1\u001b[39m smote = \u001b[43mSMOTE\u001b[49m(random_state=\u001b[32m42\u001b[39m)\n\u001b[32m      2\u001b[39m X_train_resampled, y_train_resampled = smote.fit_resample(X_train, y_train)\n\u001b[32m      3\u001b[39m rf = RandomForestClassifier(class_weight=\u001b[33m'\u001b[39m\u001b[33mbalanced\u001b[39m\u001b[33m'\u001b[39m, random_state=\u001b[32m42\u001b[39m)\n",
      "\u001b[31mNameError\u001b[39m: name 'SMOTE' is not defined"
     ]
    }
   ],
   "source": [
    "smote = SMOTE(random_state=42)\n",
    "X_train_resampled, y_train_resampled = smote.fit_resample(X_train, y_train)\n",
    "rf = RandomForestClassifier(class_weight='balanced', random_state=42)\n",
    "parameters = {\n",
    "    'n_estimators': [200, 300, 500],  \n",
    "    'max_depth': [10, 20, None],\n",
    "    'min_samples_split': [2, 5, 10],\n",
    "    'min_samples_leaf': [1, 2, 4],\n",
    "    'bootstrap': [True]\n",
    "}"
   ]
  },
  {
   "cell_type": "code",
   "execution_count": 8,
   "id": "356781ea-1c03-449a-818b-44e38dec8bb1",
   "metadata": {},
   "outputs": [
    {
     "name": "stdout",
     "output_type": "stream",
     "text": [
      "n_iterations: 8\n",
      "n_required_iterations: 8\n",
      "n_possible_iterations: 8\n",
      "min_resources_: 24\n",
      "max_resources_: 3164\n",
      "aggressive_elimination: False\n",
      "factor: 2\n",
      "----------\n",
      "iter: 0\n",
      "n_candidates: 144\n",
      "n_resources: 24\n",
      "Fitting 3 folds for each of 144 candidates, totalling 432 fits\n",
      "----------\n",
      "iter: 1\n",
      "n_candidates: 72\n",
      "n_resources: 48\n",
      "Fitting 3 folds for each of 72 candidates, totalling 216 fits\n",
      "----------\n",
      "iter: 2\n",
      "n_candidates: 36\n",
      "n_resources: 96\n",
      "Fitting 3 folds for each of 36 candidates, totalling 108 fits\n",
      "----------\n",
      "iter: 3\n",
      "n_candidates: 18\n",
      "n_resources: 192\n",
      "Fitting 3 folds for each of 18 candidates, totalling 54 fits\n",
      "----------\n",
      "iter: 4\n",
      "n_candidates: 9\n",
      "n_resources: 384\n",
      "Fitting 3 folds for each of 9 candidates, totalling 27 fits\n",
      "----------\n",
      "iter: 5\n",
      "n_candidates: 5\n",
      "n_resources: 768\n",
      "Fitting 3 folds for each of 5 candidates, totalling 15 fits\n",
      "----------\n",
      "iter: 6\n",
      "n_candidates: 3\n",
      "n_resources: 1536\n",
      "Fitting 3 folds for each of 3 candidates, totalling 9 fits\n",
      "----------\n",
      "iter: 7\n",
      "n_candidates: 2\n",
      "n_resources: 3072\n",
      "Fitting 3 folds for each of 2 candidates, totalling 6 fits\n"
     ]
    }
   ],
   "source": [
    "clf = HalvingGridSearchCV(estimator=rf, param_grid=parameters, scoring='accuracy', factor=2, cv=3, n_jobs=-1, verbose=1)\n",
    "best_clf = clf.fit(X_train, y_train)"
   ]
  },
  {
   "cell_type": "code",
   "execution_count": 9,
   "id": "33221559-cd03-46f5-856a-3b7c948b1761",
   "metadata": {},
   "outputs": [
    {
     "name": "stdout",
     "output_type": "stream",
     "text": [
      "[[1179   22]\n",
      " [ 112   44]]\n",
      "              precision    recall  f1-score   support\n",
      "\n",
      "           0       0.91      0.98      0.95      1201\n",
      "           1       0.67      0.28      0.40       156\n",
      "\n",
      "    accuracy                           0.90      1357\n",
      "   macro avg       0.79      0.63      0.67      1357\n",
      "weighted avg       0.88      0.90      0.88      1357\n",
      "\n",
      "AUC score for Random Forest is  0.9129464762270758\n",
      "Test Accuracy score for Random Forest is  0.9012527634487841\n",
      "Train Accuracy score for Random Forest is  1.0\n",
      "Best parameters for Random Forest are  {'bootstrap': True, 'max_features': 'sqrt', 'min_samples_leaf': 1, 'min_samples_split': 2, 'n_estimators': 1500}\n"
     ]
    }
   ],
   "source": [
    "# Training Random Forest\n",
    "# Finding Accuracy, AUC, False positive rate, True positive rate, confusion matrix and classificatio report\n",
    "# get best parameters for retraining\n",
    "\n",
    "pred = best_clf.predict(X_test)\n",
    "accRF = accuracy_score(y_test, pred)\n",
    "y_pred_prob = best_clf.predict_proba(X_test)\n",
    "aucScoreRF = roc_auc_score(y_test,  y_pred_prob[:,1])\n",
    "fprRF, tprRF, thresholds = roc_curve(y_test, y_pred_prob[:,1] )\n",
    "print(confusion_matrix(y_test,pred))\n",
    "print(classification_report(y_test,pred))\n",
    "print(\"AUC score for Random Forest is \",aucScoreRF)\n",
    "print(\"Test Accuracy score for Random Forest is \",accuracy_score(y_test, pred))\n",
    "predT=best_clf.predict(X_train)\n",
    "print(\"Train Accuracy score for Random Forest is \",accuracy_score(y_train, predT))\n",
    "print(\"Best parameters for Random Forest are \",best_clf.best_params_)"
   ]
  },
  {
   "cell_type": "code",
   "execution_count": 10,
   "id": "7a2b413a-9c7b-48eb-81a1-857f72d6dccf",
   "metadata": {},
   "outputs": [
    {
     "name": "stdout",
     "output_type": "stream",
     "text": [
      "n_iterations: 8\n",
      "n_required_iterations: 8\n",
      "n_possible_iterations: 8\n",
      "min_resources_: 24\n",
      "max_resources_: 3164\n",
      "aggressive_elimination: False\n",
      "factor: 2\n",
      "----------\n",
      "iter: 0\n",
      "n_candidates: 144\n",
      "n_resources: 24\n",
      "Fitting 3 folds for each of 144 candidates, totalling 432 fits\n",
      "----------\n",
      "iter: 1\n",
      "n_candidates: 72\n",
      "n_resources: 48\n",
      "Fitting 3 folds for each of 72 candidates, totalling 216 fits\n",
      "----------\n",
      "iter: 2\n",
      "n_candidates: 36\n",
      "n_resources: 96\n",
      "Fitting 3 folds for each of 36 candidates, totalling 108 fits\n",
      "----------\n",
      "iter: 3\n",
      "n_candidates: 18\n",
      "n_resources: 192\n",
      "Fitting 3 folds for each of 18 candidates, totalling 54 fits\n",
      "----------\n",
      "iter: 4\n",
      "n_candidates: 9\n",
      "n_resources: 384\n",
      "Fitting 3 folds for each of 9 candidates, totalling 27 fits\n",
      "----------\n",
      "iter: 5\n",
      "n_candidates: 5\n",
      "n_resources: 768\n",
      "Fitting 3 folds for each of 5 candidates, totalling 15 fits\n",
      "----------\n",
      "iter: 6\n",
      "n_candidates: 3\n",
      "n_resources: 1536\n",
      "Fitting 3 folds for each of 3 candidates, totalling 9 fits\n",
      "----------\n",
      "iter: 7\n",
      "n_candidates: 2\n",
      "n_resources: 3072\n",
      "Fitting 3 folds for each of 2 candidates, totalling 6 fits\n"
     ]
    }
   ],
   "source": [
    "clf = HalvingGridSearchCV(estimator=rf, param_grid=parameters, scoring='recall', factor=2, cv=3, n_jobs=-1, verbose=1)\n",
    "best_clf = clf.fit(X_train, y_train)"
   ]
  },
  {
   "cell_type": "code",
   "execution_count": 13,
   "id": "38908366-0d1c-4bdb-bab0-30f387a1ec98",
   "metadata": {},
   "outputs": [
    {
     "name": "stdout",
     "output_type": "stream",
     "text": [
      "Test Recall score for RF is  0.34615384615384615\n",
      "Train recall score for RF is  1.0\n",
      "Best parameters for recall of RF are  {'bootstrap': False, 'max_features': 'sqrt', 'min_samples_leaf': 1, 'min_samples_split': 2, 'n_estimators': 1500}\n"
     ]
    }
   ],
   "source": [
    "predR = best_clf.predict(X_test)\n",
    "predRT=best_clf.predict(X_train)\n",
    "recallRF=recall_score(y_test, predR)\n",
    "print(\"Test Recall score for RF is \",recallRF)\n",
    "print(\"Train recall score for RF is \",recall_score(y_train, predRT))\n",
    "print(\"Best parameters for recall of RF are \",best_clf.best_params_)"
   ]
  },
  {
   "cell_type": "markdown",
   "id": "20f9ad93-bffb-41fc-aa4a-4e559b951ba8",
   "metadata": {},
   "source": [
    "**Notes:**\n",
    "1. Random Forest gives accuracy of 0.84 which is quite good\n",
    "2. There is quite difference between train and test accuracy but its not severe overfitting or underfitting\n",
    "3. Recall is 0.88 which is very good "
   ]
  }
 ],
 "metadata": {
  "kernelspec": {
   "display_name": "Python 3 (ipykernel)",
   "language": "python",
   "name": "python3"
  },
  "language_info": {
   "codemirror_mode": {
    "name": "ipython",
    "version": 3
   },
   "file_extension": ".py",
   "mimetype": "text/x-python",
   "name": "python",
   "nbconvert_exporter": "python",
   "pygments_lexer": "ipython3",
   "version": "3.13.2"
  }
 },
 "nbformat": 4,
 "nbformat_minor": 5
}
